{
 "cells": [
  {
   "cell_type": "code",
   "execution_count": 1,
   "id": "fa8cf2b7",
   "metadata": {},
   "outputs": [
    {
     "name": "stderr",
     "output_type": "stream",
     "text": [
      "C:\\Users\\suraj\\anaconda3\\lib\\site-packages\\scipy\\__init__.py:146: UserWarning: A NumPy version >=1.16.5 and <1.23.0 is required for this version of SciPy (detected version 1.26.4\n",
      "  warnings.warn(f\"A NumPy version >={np_minversion} and <{np_maxversion}\"\n"
     ]
    }
   ],
   "source": [
    "import numpy as np\n",
    "import pandas as pd\n",
    "import matplotlib.pyplot as plt\n",
    "import seaborn as sns"
   ]
  },
  {
   "cell_type": "code",
   "execution_count": 2,
   "id": "e5f91897",
   "metadata": {},
   "outputs": [],
   "source": [
    "df=pd.read_csv(\"telecom_data.csv\")"
   ]
  },
  {
   "cell_type": "code",
   "execution_count": 3,
   "id": "672be88d",
   "metadata": {},
   "outputs": [
    {
     "data": {
      "text/html": [
       "<div>\n",
       "<style scoped>\n",
       "    .dataframe tbody tr th:only-of-type {\n",
       "        vertical-align: middle;\n",
       "    }\n",
       "\n",
       "    .dataframe tbody tr th {\n",
       "        vertical-align: top;\n",
       "    }\n",
       "\n",
       "    .dataframe thead th {\n",
       "        text-align: right;\n",
       "    }\n",
       "</style>\n",
       "<table border=\"1\" class=\"dataframe\">\n",
       "  <thead>\n",
       "    <tr style=\"text-align: right;\">\n",
       "      <th></th>\n",
       "      <th>inout_travelling</th>\n",
       "      <th>operator</th>\n",
       "      <th>network_type</th>\n",
       "      <th>rating</th>\n",
       "      <th>calldrop_category</th>\n",
       "      <th>latitude</th>\n",
       "      <th>longitude</th>\n",
       "      <th>state_name</th>\n",
       "      <th>month</th>\n",
       "      <th>year</th>\n",
       "    </tr>\n",
       "  </thead>\n",
       "  <tbody>\n",
       "    <tr>\n",
       "      <th>0</th>\n",
       "      <td>Indoor</td>\n",
       "      <td>RJio</td>\n",
       "      <td>4G</td>\n",
       "      <td>1</td>\n",
       "      <td>Poor Voice Quality</td>\n",
       "      <td>26.687119</td>\n",
       "      <td>82.171533</td>\n",
       "      <td>Uttar Pradesh</td>\n",
       "      <td>7</td>\n",
       "      <td>2022</td>\n",
       "    </tr>\n",
       "    <tr>\n",
       "      <th>1</th>\n",
       "      <td>Indoor</td>\n",
       "      <td>RJio</td>\n",
       "      <td>4G</td>\n",
       "      <td>1</td>\n",
       "      <td>Poor Voice Quality</td>\n",
       "      <td>26.687119</td>\n",
       "      <td>82.171533</td>\n",
       "      <td>Uttar Pradesh</td>\n",
       "      <td>7</td>\n",
       "      <td>2022</td>\n",
       "    </tr>\n",
       "    <tr>\n",
       "      <th>2</th>\n",
       "      <td>Indoor</td>\n",
       "      <td>VI</td>\n",
       "      <td>4G</td>\n",
       "      <td>1</td>\n",
       "      <td>Poor Voice Quality</td>\n",
       "      <td>21.123036</td>\n",
       "      <td>79.067904</td>\n",
       "      <td>Maharashtra</td>\n",
       "      <td>7</td>\n",
       "      <td>2022</td>\n",
       "    </tr>\n",
       "    <tr>\n",
       "      <th>3</th>\n",
       "      <td>Indoor</td>\n",
       "      <td>VI</td>\n",
       "      <td>4G</td>\n",
       "      <td>1</td>\n",
       "      <td>Poor Voice Quality</td>\n",
       "      <td>19.225397</td>\n",
       "      <td>72.859307</td>\n",
       "      <td>Maharashtra</td>\n",
       "      <td>7</td>\n",
       "      <td>2022</td>\n",
       "    </tr>\n",
       "    <tr>\n",
       "      <th>4</th>\n",
       "      <td>Travelling</td>\n",
       "      <td>VI</td>\n",
       "      <td>4G</td>\n",
       "      <td>4</td>\n",
       "      <td>Satisfactory</td>\n",
       "      <td>25.525933</td>\n",
       "      <td>87.032880</td>\n",
       "      <td>Bihar</td>\n",
       "      <td>7</td>\n",
       "      <td>2022</td>\n",
       "    </tr>\n",
       "    <tr>\n",
       "      <th>5</th>\n",
       "      <td>Outdoor</td>\n",
       "      <td>Airtel</td>\n",
       "      <td>4G</td>\n",
       "      <td>5</td>\n",
       "      <td>Satisfactory</td>\n",
       "      <td>26.615490</td>\n",
       "      <td>83.778166</td>\n",
       "      <td>Uttar Pradesh</td>\n",
       "      <td>7</td>\n",
       "      <td>2022</td>\n",
       "    </tr>\n",
       "    <tr>\n",
       "      <th>6</th>\n",
       "      <td>Indoor</td>\n",
       "      <td>VI</td>\n",
       "      <td>4G</td>\n",
       "      <td>1</td>\n",
       "      <td>Poor Voice Quality</td>\n",
       "      <td>19.222332</td>\n",
       "      <td>72.961042</td>\n",
       "      <td>Maharashtra</td>\n",
       "      <td>7</td>\n",
       "      <td>2022</td>\n",
       "    </tr>\n",
       "    <tr>\n",
       "      <th>7</th>\n",
       "      <td>Indoor</td>\n",
       "      <td>VI</td>\n",
       "      <td>4G</td>\n",
       "      <td>4</td>\n",
       "      <td>Satisfactory</td>\n",
       "      <td>18.479016</td>\n",
       "      <td>74.026653</td>\n",
       "      <td>Maharashtra</td>\n",
       "      <td>7</td>\n",
       "      <td>2022</td>\n",
       "    </tr>\n",
       "    <tr>\n",
       "      <th>8</th>\n",
       "      <td>Indoor</td>\n",
       "      <td>RJio</td>\n",
       "      <td>4G</td>\n",
       "      <td>3</td>\n",
       "      <td>Satisfactory</td>\n",
       "      <td>28.934055</td>\n",
       "      <td>77.451654</td>\n",
       "      <td>Uttar Pradesh</td>\n",
       "      <td>7</td>\n",
       "      <td>2022</td>\n",
       "    </tr>\n",
       "    <tr>\n",
       "      <th>9</th>\n",
       "      <td>Indoor</td>\n",
       "      <td>RJio</td>\n",
       "      <td>4G</td>\n",
       "      <td>1</td>\n",
       "      <td>Call Dropped</td>\n",
       "      <td>28.934055</td>\n",
       "      <td>77.451654</td>\n",
       "      <td>Uttar Pradesh</td>\n",
       "      <td>7</td>\n",
       "      <td>2022</td>\n",
       "    </tr>\n",
       "  </tbody>\n",
       "</table>\n",
       "</div>"
      ],
      "text/plain": [
       "  inout_travelling operator network_type  rating   calldrop_category  \\\n",
       "0           Indoor     RJio           4G       1  Poor Voice Quality   \n",
       "1           Indoor     RJio           4G       1  Poor Voice Quality   \n",
       "2           Indoor       VI           4G       1  Poor Voice Quality   \n",
       "3           Indoor       VI           4G       1  Poor Voice Quality   \n",
       "4       Travelling       VI           4G       4        Satisfactory   \n",
       "5          Outdoor   Airtel           4G       5        Satisfactory   \n",
       "6           Indoor       VI           4G       1  Poor Voice Quality   \n",
       "7           Indoor       VI           4G       4        Satisfactory   \n",
       "8           Indoor     RJio           4G       3        Satisfactory   \n",
       "9           Indoor     RJio           4G       1        Call Dropped   \n",
       "\n",
       "    latitude  longitude     state_name  month  year  \n",
       "0  26.687119  82.171533  Uttar Pradesh      7  2022  \n",
       "1  26.687119  82.171533  Uttar Pradesh      7  2022  \n",
       "2  21.123036  79.067904    Maharashtra      7  2022  \n",
       "3  19.225397  72.859307    Maharashtra      7  2022  \n",
       "4  25.525933  87.032880          Bihar      7  2022  \n",
       "5  26.615490  83.778166  Uttar Pradesh      7  2022  \n",
       "6  19.222332  72.961042    Maharashtra      7  2022  \n",
       "7  18.479016  74.026653    Maharashtra      7  2022  \n",
       "8  28.934055  77.451654  Uttar Pradesh      7  2022  \n",
       "9  28.934055  77.451654  Uttar Pradesh      7  2022  "
      ]
     },
     "execution_count": 3,
     "metadata": {},
     "output_type": "execute_result"
    }
   ],
   "source": [
    "df.head(10)"
   ]
  },
  {
   "cell_type": "code",
   "execution_count": 4,
   "id": "4eb9d11a",
   "metadata": {},
   "outputs": [
    {
     "data": {
      "text/plain": [
       "Index(['inout_travelling', 'operator', 'network_type', 'rating',\n",
       "       'calldrop_category', 'latitude', 'longitude', 'state_name', 'month',\n",
       "       'year'],\n",
       "      dtype='object')"
      ]
     },
     "execution_count": 4,
     "metadata": {},
     "output_type": "execute_result"
    }
   ],
   "source": [
    "df.columns"
   ]
  },
  {
   "cell_type": "code",
   "execution_count": 5,
   "id": "900ea4cc",
   "metadata": {},
   "outputs": [
    {
     "name": "stdout",
     "output_type": "stream",
     "text": [
      "<class 'pandas.core.frame.DataFrame'>\n",
      "RangeIndex: 104334 entries, 0 to 104333\n",
      "Data columns (total 10 columns):\n",
      " #   Column             Non-Null Count   Dtype  \n",
      "---  ------             --------------   -----  \n",
      " 0   inout_travelling   104334 non-null  object \n",
      " 1   operator           104334 non-null  object \n",
      " 2   network_type       104321 non-null  object \n",
      " 3   rating             104334 non-null  int64  \n",
      " 4   calldrop_category  104334 non-null  object \n",
      " 5   latitude           104334 non-null  float64\n",
      " 6   longitude          104334 non-null  float64\n",
      " 7   state_name         80327 non-null   object \n",
      " 8   month              104334 non-null  int64  \n",
      " 9   year               104334 non-null  int64  \n",
      "dtypes: float64(2), int64(3), object(5)\n",
      "memory usage: 8.0+ MB\n"
     ]
    }
   ],
   "source": [
    "df.info()"
   ]
  },
  {
   "cell_type": "code",
   "execution_count": 6,
   "id": "aed85cbb",
   "metadata": {},
   "outputs": [
    {
     "data": {
      "text/plain": [
       "43086"
      ]
     },
     "execution_count": 6,
     "metadata": {},
     "output_type": "execute_result"
    }
   ],
   "source": [
    "df.duplicated().sum()"
   ]
  },
  {
   "cell_type": "code",
   "execution_count": 7,
   "id": "0def891d",
   "metadata": {},
   "outputs": [],
   "source": [
    "data=df.drop_duplicates()"
   ]
  },
  {
   "cell_type": "code",
   "execution_count": 8,
   "id": "66638915",
   "metadata": {},
   "outputs": [
    {
     "data": {
      "text/html": [
       "<div>\n",
       "<style scoped>\n",
       "    .dataframe tbody tr th:only-of-type {\n",
       "        vertical-align: middle;\n",
       "    }\n",
       "\n",
       "    .dataframe tbody tr th {\n",
       "        vertical-align: top;\n",
       "    }\n",
       "\n",
       "    .dataframe thead th {\n",
       "        text-align: right;\n",
       "    }\n",
       "</style>\n",
       "<table border=\"1\" class=\"dataframe\">\n",
       "  <thead>\n",
       "    <tr style=\"text-align: right;\">\n",
       "      <th></th>\n",
       "      <th>inout_travelling</th>\n",
       "      <th>operator</th>\n",
       "      <th>network_type</th>\n",
       "      <th>rating</th>\n",
       "      <th>calldrop_category</th>\n",
       "      <th>latitude</th>\n",
       "      <th>longitude</th>\n",
       "      <th>state_name</th>\n",
       "      <th>month</th>\n",
       "      <th>year</th>\n",
       "    </tr>\n",
       "  </thead>\n",
       "  <tbody>\n",
       "    <tr>\n",
       "      <th>0</th>\n",
       "      <td>Indoor</td>\n",
       "      <td>RJio</td>\n",
       "      <td>4G</td>\n",
       "      <td>1</td>\n",
       "      <td>Poor Voice Quality</td>\n",
       "      <td>26.687119</td>\n",
       "      <td>82.171533</td>\n",
       "      <td>Uttar Pradesh</td>\n",
       "      <td>7</td>\n",
       "      <td>2022</td>\n",
       "    </tr>\n",
       "    <tr>\n",
       "      <th>2</th>\n",
       "      <td>Indoor</td>\n",
       "      <td>VI</td>\n",
       "      <td>4G</td>\n",
       "      <td>1</td>\n",
       "      <td>Poor Voice Quality</td>\n",
       "      <td>21.123036</td>\n",
       "      <td>79.067904</td>\n",
       "      <td>Maharashtra</td>\n",
       "      <td>7</td>\n",
       "      <td>2022</td>\n",
       "    </tr>\n",
       "    <tr>\n",
       "      <th>3</th>\n",
       "      <td>Indoor</td>\n",
       "      <td>VI</td>\n",
       "      <td>4G</td>\n",
       "      <td>1</td>\n",
       "      <td>Poor Voice Quality</td>\n",
       "      <td>19.225397</td>\n",
       "      <td>72.859307</td>\n",
       "      <td>Maharashtra</td>\n",
       "      <td>7</td>\n",
       "      <td>2022</td>\n",
       "    </tr>\n",
       "    <tr>\n",
       "      <th>4</th>\n",
       "      <td>Travelling</td>\n",
       "      <td>VI</td>\n",
       "      <td>4G</td>\n",
       "      <td>4</td>\n",
       "      <td>Satisfactory</td>\n",
       "      <td>25.525933</td>\n",
       "      <td>87.032880</td>\n",
       "      <td>Bihar</td>\n",
       "      <td>7</td>\n",
       "      <td>2022</td>\n",
       "    </tr>\n",
       "    <tr>\n",
       "      <th>5</th>\n",
       "      <td>Outdoor</td>\n",
       "      <td>Airtel</td>\n",
       "      <td>4G</td>\n",
       "      <td>5</td>\n",
       "      <td>Satisfactory</td>\n",
       "      <td>26.615490</td>\n",
       "      <td>83.778166</td>\n",
       "      <td>Uttar Pradesh</td>\n",
       "      <td>7</td>\n",
       "      <td>2022</td>\n",
       "    </tr>\n",
       "    <tr>\n",
       "      <th>...</th>\n",
       "      <td>...</td>\n",
       "      <td>...</td>\n",
       "      <td>...</td>\n",
       "      <td>...</td>\n",
       "      <td>...</td>\n",
       "      <td>...</td>\n",
       "      <td>...</td>\n",
       "      <td>...</td>\n",
       "      <td>...</td>\n",
       "      <td>...</td>\n",
       "    </tr>\n",
       "    <tr>\n",
       "      <th>104326</th>\n",
       "      <td>Travelling</td>\n",
       "      <td>Airtel</td>\n",
       "      <td>4G</td>\n",
       "      <td>2</td>\n",
       "      <td>Call Dropped</td>\n",
       "      <td>16.481119</td>\n",
       "      <td>81.150113</td>\n",
       "      <td>Andhra Pradesh</td>\n",
       "      <td>11</td>\n",
       "      <td>2023</td>\n",
       "    </tr>\n",
       "    <tr>\n",
       "      <th>104328</th>\n",
       "      <td>Outdoor</td>\n",
       "      <td>VI</td>\n",
       "      <td>4G</td>\n",
       "      <td>1</td>\n",
       "      <td>Poor Voice Quality</td>\n",
       "      <td>21.132335</td>\n",
       "      <td>79.068327</td>\n",
       "      <td>Maharashtra</td>\n",
       "      <td>11</td>\n",
       "      <td>2023</td>\n",
       "    </tr>\n",
       "    <tr>\n",
       "      <th>104329</th>\n",
       "      <td>Indoor</td>\n",
       "      <td>RJio</td>\n",
       "      <td>4G</td>\n",
       "      <td>5</td>\n",
       "      <td>Satisfactory</td>\n",
       "      <td>12.958151</td>\n",
       "      <td>77.484752</td>\n",
       "      <td>Karnataka</td>\n",
       "      <td>11</td>\n",
       "      <td>2023</td>\n",
       "    </tr>\n",
       "    <tr>\n",
       "      <th>104331</th>\n",
       "      <td>Indoor</td>\n",
       "      <td>Airtel</td>\n",
       "      <td>4G</td>\n",
       "      <td>3</td>\n",
       "      <td>Satisfactory</td>\n",
       "      <td>30.112252</td>\n",
       "      <td>78.295731</td>\n",
       "      <td>Uttarakhand</td>\n",
       "      <td>11</td>\n",
       "      <td>2023</td>\n",
       "    </tr>\n",
       "    <tr>\n",
       "      <th>104332</th>\n",
       "      <td>Indoor</td>\n",
       "      <td>Airtel</td>\n",
       "      <td>Unknown</td>\n",
       "      <td>3</td>\n",
       "      <td>Satisfactory</td>\n",
       "      <td>30.112252</td>\n",
       "      <td>78.295731</td>\n",
       "      <td>Uttarakhand</td>\n",
       "      <td>11</td>\n",
       "      <td>2023</td>\n",
       "    </tr>\n",
       "  </tbody>\n",
       "</table>\n",
       "<p>61248 rows × 10 columns</p>\n",
       "</div>"
      ],
      "text/plain": [
       "       inout_travelling operator network_type  rating   calldrop_category  \\\n",
       "0                Indoor     RJio           4G       1  Poor Voice Quality   \n",
       "2                Indoor       VI           4G       1  Poor Voice Quality   \n",
       "3                Indoor       VI           4G       1  Poor Voice Quality   \n",
       "4            Travelling       VI           4G       4        Satisfactory   \n",
       "5               Outdoor   Airtel           4G       5        Satisfactory   \n",
       "...                 ...      ...          ...     ...                 ...   \n",
       "104326       Travelling   Airtel           4G       2        Call Dropped   \n",
       "104328          Outdoor       VI           4G       1  Poor Voice Quality   \n",
       "104329           Indoor     RJio           4G       5        Satisfactory   \n",
       "104331           Indoor   Airtel           4G       3        Satisfactory   \n",
       "104332           Indoor   Airtel      Unknown       3        Satisfactory   \n",
       "\n",
       "         latitude  longitude      state_name  month  year  \n",
       "0       26.687119  82.171533   Uttar Pradesh      7  2022  \n",
       "2       21.123036  79.067904     Maharashtra      7  2022  \n",
       "3       19.225397  72.859307     Maharashtra      7  2022  \n",
       "4       25.525933  87.032880           Bihar      7  2022  \n",
       "5       26.615490  83.778166   Uttar Pradesh      7  2022  \n",
       "...           ...        ...             ...    ...   ...  \n",
       "104326  16.481119  81.150113  Andhra Pradesh     11  2023  \n",
       "104328  21.132335  79.068327     Maharashtra     11  2023  \n",
       "104329  12.958151  77.484752       Karnataka     11  2023  \n",
       "104331  30.112252  78.295731     Uttarakhand     11  2023  \n",
       "104332  30.112252  78.295731     Uttarakhand     11  2023  \n",
       "\n",
       "[61248 rows x 10 columns]"
      ]
     },
     "execution_count": 8,
     "metadata": {},
     "output_type": "execute_result"
    }
   ],
   "source": [
    "data"
   ]
  },
  {
   "cell_type": "code",
   "execution_count": 9,
   "id": "804c3ee3",
   "metadata": {},
   "outputs": [
    {
     "data": {
      "text/plain": [
       "inout_travelling        0\n",
       "operator                0\n",
       "network_type            4\n",
       "rating                  0\n",
       "calldrop_category       0\n",
       "latitude                0\n",
       "longitude               0\n",
       "state_name           2869\n",
       "month                   0\n",
       "year                    0\n",
       "dtype: int64"
      ]
     },
     "execution_count": 9,
     "metadata": {},
     "output_type": "execute_result"
    }
   ],
   "source": [
    "data.isnull().sum()"
   ]
  },
  {
   "cell_type": "code",
   "execution_count": 10,
   "id": "489bd997",
   "metadata": {},
   "outputs": [
    {
     "name": "stderr",
     "output_type": "stream",
     "text": [
      "C:\\Users\\suraj\\AppData\\Local\\Temp/ipykernel_8568/2601406720.py:1: SettingWithCopyWarning: \n",
      "A value is trying to be set on a copy of a slice from a DataFrame.\n",
      "Try using .loc[row_indexer,col_indexer] = value instead\n",
      "\n",
      "See the caveats in the documentation: https://pandas.pydata.org/pandas-docs/stable/user_guide/indexing.html#returning-a-view-versus-a-copy\n",
      "  data['state_name']=data['state_name'].fillna(data['state_name'].mode()[0])\n",
      "C:\\Users\\suraj\\AppData\\Local\\Temp/ipykernel_8568/2601406720.py:2: SettingWithCopyWarning: \n",
      "A value is trying to be set on a copy of a slice from a DataFrame.\n",
      "Try using .loc[row_indexer,col_indexer] = value instead\n",
      "\n",
      "See the caveats in the documentation: https://pandas.pydata.org/pandas-docs/stable/user_guide/indexing.html#returning-a-view-versus-a-copy\n",
      "  data['network_type']=data['network_type'].fillna(data['network_type'].mode()[0])\n"
     ]
    }
   ],
   "source": [
    "data['state_name']=data['state_name'].fillna(data['state_name'].mode()[0])\n",
    "data['network_type']=data['network_type'].fillna(data['network_type'].mode()[0])"
   ]
  },
  {
   "cell_type": "code",
   "execution_count": 11,
   "id": "3e7d0c1e",
   "metadata": {},
   "outputs": [
    {
     "name": "stderr",
     "output_type": "stream",
     "text": [
      "C:\\Users\\suraj\\anaconda3\\lib\\site-packages\\pandas\\core\\indexing.py:1817: SettingWithCopyWarning: \n",
      "A value is trying to be set on a copy of a slice from a DataFrame.\n",
      "Try using .loc[row_indexer,col_indexer] = value instead\n",
      "\n",
      "See the caveats in the documentation: https://pandas.pydata.org/pandas-docs/stable/user_guide/indexing.html#returning-a-view-versus-a-copy\n",
      "  self._setitem_single_column(loc, value, pi)\n"
     ]
    }
   ],
   "source": [
    "invalid_coords = (data['latitude'] == -1) | (data['longitude'] == -1)\n",
    "mean_latitude = data[data['latitude'] != -1]['latitude'].mean()\n",
    "mean_longitude = data[data['longitude'] != -1]['longitude'].mean()\n",
    "data.loc[invalid_coords, 'latitude'] = mean_latitude\n",
    "data.loc[invalid_coords, 'longitude'] = mean_longitude"
   ]
  },
  {
   "cell_type": "code",
   "execution_count": 12,
   "id": "2c2a4676",
   "metadata": {},
   "outputs": [
    {
     "data": {
      "image/png": "[encoded data removed]",
      "text/plain": [
       "<Figure size 360x360 with 1 Axes>"
      ]
     },
     "metadata": {
      "needs_background": "light"
     },
     "output_type": "display_data"
    }
   ],
   "source": [
    "# Plot the distribution of ratings\n",
    "plt.figure(figsize=(5,5))\n",
    "sns.countplot(data=data, x='rating')\n",
    "plt.title('Distribution of Ratings')\n",
    "plt.xlabel('Rating')\n",
    "plt.ylabel('Count')\n",
    "plt.show()"
   ]
  },
  {
   "cell_type": "code",
   "execution_count": 13,
   "id": "5ddcddda",
   "metadata": {},
   "outputs": [
    {
     "data": {
      "image/png": "[encoded data removed]",
      "text/plain": [
       "<Figure size 360x360 with 1 Axes>"
      ]
     },
     "metadata": {
      "needs_background": "light"
     },
     "output_type": "display_data"
    }
   ],
   "source": [
    "# Plot the count of call drop categories across network types\n",
    "plt.figure(figsize=(5,5))\n",
    "sns.countplot(data=data,x='network_type', hue='calldrop_category')\n",
    "plt.title('Call Drop Category Across Different Network Types')\n",
    "plt.xlabel('Network Type')\n",
    "plt.ylabel('Count')\n",
    "plt.legend(title='Call Drop Category')\n",
    "plt.show()"
   ]
  },
  {
   "cell_type": "code",
   "execution_count": 14,
   "id": "e75181c8",
   "metadata": {},
   "outputs": [
    {
     "data": {
      "image/png": "[encoded data removed]",
      "text/plain": [
       "<Figure size 360x360 with 1 Axes>"
      ]
     },
     "metadata": {
      "needs_background": "light"
     },
     "output_type": "display_data"
    }
   ],
   "source": [
    "# Plot the distribution of network types\n",
    "plt.figure(figsize=(5,5))\n",
    "sns.countplot(data=data, x='network_type')\n",
    "plt.title('Distribution of Network Types')\n",
    "plt.xlabel('Network Type')\n",
    "plt.ylabel('Count')\n",
    "plt.show()"
   ]
  },
  {
   "cell_type": "code",
   "execution_count": 15,
   "id": "a448fa90",
   "metadata": {},
   "outputs": [
    {
     "data": {
      "image/png": "[encoded data removed]",
      "text/plain": [
       "<Figure size 360x360 with 1 Axes>"
      ]
     },
     "metadata": {
      "needs_background": "light"
     },
     "output_type": "display_data"
    }
   ],
   "source": [
    "# Plot the distribution of ratings between indoor and travelling calls\n",
    "plt.figure(figsize=(5,5))\n",
    "sns.boxplot(data=data, x='inout_travelling', y='rating')\n",
    "plt.title('Rating Distribution for Indoor and Travelling Calls')\n",
    "plt.xlabel('\\n Call Environment')\n",
    "plt.ylabel('Rating')\n",
    "plt.show()"
   ]
  },
  {
   "cell_type": "code",
   "execution_count": 16,
   "id": "b5809ebb",
   "metadata": {},
   "outputs": [
    {
     "data": {
      "image/png": "[encoded data removed]",
      "text/plain": [
       "<Figure size 360x360 with 1 Axes>"
      ]
     },
     "metadata": {
      "needs_background": "light"
     },
     "output_type": "display_data"
    }
   ],
   "source": [
    "# Plot the top 10 most common states\n",
    "top_states = data['state_name'].value_counts().head(10)\n",
    "plt.figure(figsize=(5,5))\n",
    "sns.barplot(x=top_states.index, y=top_states.values)\n",
    "plt.title('Top 10 Most Common States')\n",
    "plt.xlabel('State')\n",
    "plt.ylabel('Count')\n",
    "plt.xticks(rotation=90)\n",
    "plt.show()"
   ]
  },
  {
   "cell_type": "code",
   "execution_count": 17,
   "id": "f06de1c0",
   "metadata": {},
   "outputs": [
    {
     "data": {
      "image/png": "[encoded data removed]",
      "text/plain": [
       "<Figure size 360x360 with 1 Axes>"
      ]
     },
     "metadata": {
      "needs_background": "light"
     },
     "output_type": "display_data"
    }
   ],
   "source": [
    "# Scatter plot of latitude and longitude\n",
    "plt.figure(figsize=(5,5))\n",
    "sns.scatterplot(data=data, x='longitude', y='latitude', hue='network_type')\n",
    "plt.title('Geographical Distribution of Data Points')\n",
    "plt.xlabel('Longitude')\n",
    "plt.ylabel('Latitude')\n",
    "plt.legend(title='Network Type')\n",
    "plt.show()"
   ]
  },
  {
   "cell_type": "code",
   "execution_count": 18,
   "id": "391c2870",
   "metadata": {},
   "outputs": [
    {
     "data": {
      "image/png": "[encoded data removed]",
      "text/plain": [
       "<Figure size 360x360 with 1 Axes>"
      ]
     },
     "metadata": {
      "needs_background": "light"
     },
     "output_type": "display_data"
    }
   ],
   "source": [
    "# Plot the trend of ratings over the months\n",
    "plt.figure(figsize=(5,5))\n",
    "sns.lineplot(data=data, x='month', y='rating')\n",
    "plt.title('Trend of Ratings Over Months')\n",
    "plt.xlabel('Month')\n",
    "plt.ylabel('Rating')\n",
    "plt.show()"
   ]
  },
  {
   "cell_type": "code",
   "execution_count": 19,
   "id": "e300a7c3",
   "metadata": {},
   "outputs": [
    {
     "name": "stdout",
     "output_type": "stream",
     "text": [
      "The state with highest number of poor voice quality cases is Maharashtra with 4298 cases\n",
      "The state with highest number of staisfactory cases is Maharashtra with 13058 cases\n"
     ]
    }
   ],
   "source": [
    "# Filter the dataset for 'Poor Voice Quality' cases\n",
    "poor_voice_quality = data[data['calldrop_category'] == 'Poor Voice Quality']\n",
    "good_voice_quality = data[data['calldrop_category'] == 'Satisfactory']\n",
    "# Count the number of poor voice quality cases by state\n",
    "poor_state_counts = poor_voice_quality['state_name'].value_counts()\n",
    "good_state_counts = good_voice_quality['state_name'].value_counts()\n",
    "# Identify the state with the highest number of poor voice quality cases\n",
    "state_bad_cases = poor_state_counts.idxmax()\n",
    "state_good_cases = good_state_counts.idxmax()\n",
    "highest_bad_count = poor_state_counts.max()\n",
    "highest_good_count = good_state_counts.max()\n",
    "print(\"The state with highest number of poor voice quality cases is {} with {} cases\".format(state_bad_cases,highest_bad_count))\n",
    "print(\"The state with highest number of staisfactory cases is {} with {} cases\".format(state_good_cases,highest_good_count))"
   ]
  },
  {
   "cell_type": "code",
   "execution_count": 20,
   "id": "bafb45bf",
   "metadata": {},
   "outputs": [
    {
     "data": {
      "image/png": "[encoded data removed]",
      "text/plain": [
       "<Figure size 504x504 with 1 Axes>"
      ]
     },
     "metadata": {
      "needs_background": "light"
     },
     "output_type": "display_data"
    }
   ],
   "source": [
    "# Plot the count of call drop categories across different operators\n",
    "plt.figure(figsize=(7,7))\n",
    "sns.countplot(data=data, x='operator', hue='calldrop_category')\n",
    "plt.title('Call Drop Category Across Different Operators')\n",
    "plt.xlabel('Operator')\n",
    "plt.ylabel('Count')\n",
    "plt.legend(title='Call Drop Category')\n",
    "plt.show()"
   ]
  },
  {
   "cell_type": "code",
   "execution_count": 21,
   "id": "bf184acd",
   "metadata": {},
   "outputs": [
    {
     "name": "stdout",
     "output_type": "stream",
     "text": [
      "          Performance percentage\n",
      "Airtel                 50.487548\n",
      "BSNL                   48.006348\n",
      "Idea                   77.316960\n",
      "MTNL                  -10.064935\n",
      "RJio                   33.590267\n",
      "VI                     61.651059\n",
      "Vodafone               62.797311\n",
      "﻿Idea                   0.000000\n",
      "﻿RJio                   0.000000\n"
     ]
    }
   ],
   "source": [
    "total_cases = data['operator'].value_counts()\n",
    "# Calculate 'Poor Voice Quality' cases for each operator\n",
    "poor_voice_quality_cases = data[data['calldrop_category'] == 'Poor Voice Quality']['operator'].value_counts()\n",
    "# Calculate 'Satisfactory' cases for each operator\n",
    "satisfactory_cases = data[data['calldrop_category'] == 'Satisfactory']['operator'].value_counts()\n",
    "# Calculate percentage of 'Poor Voice Quality' and 'Satisfactory' cases\n",
    "poor_voice_quality_percentage = (poor_voice_quality_cases / total_cases) * 100\n",
    "satisfactory_percentage = (satisfactory_cases / total_cases) * 100\n",
    "# Calculate the difference in percentage\n",
    "percentage_difference =(satisfactory_percentage-poor_voice_quality_percentage)\n",
    "# Create a DataFrame to display the results\n",
    "results = pd.DataFrame({'Performance percentage': percentage_difference}).fillna(0)\n",
    "print(results)"
   ]
  },
  {
   "cell_type": "code",
   "execution_count": 22,
   "id": "09eab24c",
   "metadata": {},
   "outputs": [
    {
     "data": {
      "image/png": "[encoded data removed]",
      "text/plain": [
       "<Figure size 720x360 with 2 Axes>"
      ]
     },
     "metadata": {
      "needs_background": "light"
     },
     "output_type": "display_data"
    }
   ],
   "source": [
    "call_drop_by_year = data.groupby(['year', 'calldrop_category']).size().unstack()\n",
    "call_drop_by_month = data.groupby(['month', 'calldrop_category']).size().unstack()\n",
    "fig, (ax1, ax2) = plt.subplots(1, 2, figsize=(10,5))\n",
    "call_drop_by_year.plot(kind='bar', stacked=True, ax=ax1)\n",
    "ax1.set_title('Call Drop Categories by Year')\n",
    "ax1.set_xlabel('Year')\n",
    "ax1.set_ylabel('Number of Call Drops')\n",
    "call_drop_by_month.plot(kind='bar', stacked=True, ax=ax2)\n",
    "ax2.set_title('Call Drop Categories by Month')\n",
    "ax2.set_xlabel('Month')\n",
    "ax2.set_ylabel('Number of Call Drops')\n",
    "plt.show()"
   ]
  },
  {
   "cell_type": "code",
   "execution_count": 23,
   "id": "7e9ac1c0",
   "metadata": {},
   "outputs": [],
   "source": [
    "import pandas as pd\n",
    "from sklearn.model_selection import train_test_split, cross_val_score\n",
    "from sklearn.ensemble import RandomForestClassifier\n",
    "from sklearn.metrics import classification_report, accuracy_score, confusion_matrix\n",
    "from sklearn.preprocessing import OneHotEncoder\n",
    "from sklearn.compose import ColumnTransformer\n",
    "from sklearn.pipeline import Pipeline\n",
    "from sklearn.impute import SimpleImputer"
   ]
  },
  {
   "cell_type": "code",
   "execution_count": 24,
   "id": "2845398f",
   "metadata": {},
   "outputs": [],
   "source": [
    "# Feature selection (excluding the target column)\n",
    "X = data.drop(columns=['calldrop_category'])\n",
    "y = data['calldrop_category']"
   ]
  },
  {
   "cell_type": "code",
   "execution_count": 25,
   "id": "aa21a27e",
   "metadata": {},
   "outputs": [],
   "source": [
    "# Identify categorical and numerical columns\n",
    "categorical_cols = X.select_dtypes(include=['object']).columns\n",
    "numerical_cols = X.select_dtypes(exclude=['object']).columns"
   ]
  },
  {
   "cell_type": "code",
   "execution_count": 26,
   "id": "5feeaf36",
   "metadata": {},
   "outputs": [],
   "source": [
    "# Preprocessing pipeline for categorical features\n",
    "categorical_transformer = Pipeline(steps=[\n",
    "    ('imputer', SimpleImputer(strategy='most_frequent')),\n",
    "    ('onehot', OneHotEncoder(handle_unknown='ignore'))\n",
    "])"
   ]
  },
  {
   "cell_type": "code",
   "execution_count": 27,
   "id": "ec112b56",
   "metadata": {},
   "outputs": [],
   "source": [
    "# Preprocessing pipeline for numerical features\n",
    "numerical_transformer = Pipeline(steps=[\n",
    "    ('imputer', SimpleImputer(strategy='mean'))\n",
    "])\n"
   ]
  },
  {
   "cell_type": "code",
   "execution_count": 28,
   "id": "64fa87cc",
   "metadata": {},
   "outputs": [],
   "source": [
    "# Combine preprocessing steps\n",
    "preprocessor = ColumnTransformer(\n",
    "    transformers=[\n",
    "        ('num', numerical_transformer, numerical_cols),\n",
    "        ('cat', categorical_transformer, categorical_cols)\n",
    "    ])"
   ]
  },
  {
   "cell_type": "code",
   "execution_count": 29,
   "id": "9ebaa5b3",
   "metadata": {},
   "outputs": [],
   "source": [
    "# Create the pipeline with preprocessor and classifier\n",
    "model_pipeline = Pipeline(steps=[\n",
    "    ('preprocessor', preprocessor),\n",
    "    ('classifier', RandomForestClassifier(n_estimators=100, random_state=42))\n",
    "])"
   ]
  },
  {
   "cell_type": "code",
   "execution_count": 30,
   "id": "f374311b",
   "metadata": {},
   "outputs": [],
   "source": [
    "# Train-test split\n",
    "X_train, X_test, y_train, y_test = train_test_split(X, y, test_size=0.2, random_state=42)\n"
   ]
  },
  {
   "cell_type": "code",
   "execution_count": 31,
   "id": "07cb613f",
   "metadata": {},
   "outputs": [
    {
     "data": {
      "text/plain": [
       "Pipeline(steps=[('preprocessor',\n",
       "                 ColumnTransformer(transformers=[('num',\n",
       "                                                  Pipeline(steps=[('imputer',\n",
       "                                                                   SimpleImputer())]),\n",
       "                                                  Index(['rating', 'latitude', 'longitude', 'month', 'year'], dtype='object')),\n",
       "                                                 ('cat',\n",
       "                                                  Pipeline(steps=[('imputer',\n",
       "                                                                   SimpleImputer(strategy='most_frequent')),\n",
       "                                                                  ('onehot',\n",
       "                                                                   OneHotEncoder(handle_unknown='ignore'))]),\n",
       "                                                  Index(['inout_travelling', 'operator', 'network_type', 'state_name'], dtype='object'))])),\n",
       "                ('classifier', RandomForestClassifier(random_state=42))])"
      ]
     },
     "execution_count": 31,
     "metadata": {},
     "output_type": "execute_result"
    }
   ],
   "source": [
    "# Train the model\n",
    "model_pipeline.fit(X_train, y_train)"
   ]
  },
  {
   "cell_type": "code",
   "execution_count": 32,
   "id": "dc490620",
   "metadata": {},
   "outputs": [],
   "source": [
    "# Make predictions on the test set\n",
    "rf_predictions = model_pipeline.predict(X_test)"
   ]
  },
  {
   "cell_type": "code",
   "execution_count": 33,
   "id": "1c6a90a4",
   "metadata": {},
   "outputs": [
    {
     "name": "stdout",
     "output_type": "stream",
     "text": [
      "Random Forest Classifier Performance:\n",
      "                    precision    recall  f1-score   support\n",
      "\n",
      "      Call Dropped       0.54      0.47      0.51      1465\n",
      "Poor Voice Quality       0.67      0.69      0.68      2489\n",
      "      Satisfactory       0.97      0.98      0.98      8296\n",
      "\n",
      "          accuracy                           0.86     12250\n",
      "         macro avg       0.73      0.71      0.72     12250\n",
      "      weighted avg       0.86      0.86      0.86     12250\n",
      "\n",
      "Accuracy: 0.8624489795918368\n"
     ]
    }
   ],
   "source": [
    "# Evaluate the model\n",
    "print(\"Random Forest Classifier Performance:\")\n",
    "print(classification_report(y_test, rf_predictions))\n",
    "print(\"Accuracy:\", accuracy_score(y_test, rf_predictions))\n",
    "#print(\"Confusion Matrix:\\n\", confusion_matrix(y_test, rf_predictions))"
   ]
  },
  {
   "cell_type": "code",
   "execution_count": 34,
   "id": "1cd10614",
   "metadata": {},
   "outputs": [
    {
     "name": "stdout",
     "output_type": "stream",
     "text": [
      "\n",
      "Random Forest Cross-Validation Accuracy: 86.50%\n"
     ]
    }
   ],
   "source": [
    "# Cross-validation for more robust performance evaluation\n",
    "rf_cv_scores = cross_val_score(model_pipeline, X, y, cv=5)\n",
    "print(\"\\nRandom Forest Cross-Validation Accuracy: %.2f%%\" % (rf_cv_scores.mean() * 100))\n"
   ]
  },
  {
   "cell_type": "code",
   "execution_count": null,
   "id": "6bd50c7d",
   "metadata": {},
   "outputs": [],
   "source": []
  }
 ],
 "metadata": {
  "kernelspec": {
   "display_name": "Python 3 (ipykernel)",
   "language": "python",
   "name": "python3"
  },
  "language_info": {
   "codemirror_mode": {
    "name": "ipython",
    "version": 3
   },
   "file_extension": ".py",
   "mimetype": "text/x-python",
   "name": "python",
   "nbconvert_exporter": "python",
   "pygments_lexer": "ipython3",
   "version": "3.9.7"
  }
 },
 "nbformat": 4,
 "nbformat_minor": 5
}
